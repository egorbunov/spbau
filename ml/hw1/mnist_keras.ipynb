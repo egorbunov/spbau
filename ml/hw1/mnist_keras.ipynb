{
 "cells": [
  {
   "cell_type": "code",
   "execution_count": 100,
   "metadata": {
    "collapsed": false
   },
   "outputs": [],
   "source": [
    "from keras.datasets import mnist\n",
    "from keras.models import Sequential\n",
    "from keras.layers import Dense, Dropout, Activation, Flatten\n",
    "from keras.utils import np_utils\n",
    "import numpy as np"
   ]
  },
  {
   "cell_type": "code",
   "execution_count": 108,
   "metadata": {
    "collapsed": false
   },
   "outputs": [
    {
     "name": "stdout",
     "output_type": "stream",
     "text": [
      "train size = (60000, 28, 28)\n",
      "test  size = (10000, 28, 28)\n"
     ]
    }
   ],
   "source": [
    "# preparing data\n",
    "(X_train, y_train), (X_test, y_test) = mnist.load_data()\n",
    "print(\"train size = {}\".format(X_train.shape))\n",
    "print(\"test  size = {}\".format(X_test.shape))\n",
    "\n",
    "X_train = X_train.astype('float32') / 255\n",
    "X_test = X_test.astype('float32') / 255\n",
    "\n",
    "in_shape = X_train.shape[1:]\n",
    "\n",
    "num_classes = 10 # 10 digits\n",
    "Y_train = np_utils.to_categorical(y_train, num_classes)\n",
    "Y_test = np_utils.to_categorical(y_test, num_classes)"
   ]
  },
  {
   "cell_type": "code",
   "execution_count": 131,
   "metadata": {
    "collapsed": false
   },
   "outputs": [],
   "source": [
    "neur_num = 400 # number of neurons in hidden layer\n",
    "model = Sequential([\n",
    "        Flatten(input_shape=in_shape),\n",
    "        Dense(neur_num),\n",
    "        Activation('relu'),\n",
    "        Dense(num_classes),\n",
    "        Activation('relu')\n",
    "    ])"
   ]
  },
  {
   "cell_type": "code",
   "execution_count": 132,
   "metadata": {
    "collapsed": true
   },
   "outputs": [],
   "source": [
    "model.compile(loss='mean_squared_error', optimizer='sgd', metrics=['accuracy'])"
   ]
  },
  {
   "cell_type": "code",
   "execution_count": 134,
   "metadata": {
    "collapsed": false
   },
   "outputs": [
    {
     "name": "stdout",
     "output_type": "stream",
     "text": [
      "Train on 60000 samples, validate on 10000 samples\n",
      "Epoch 1/16\n",
      "60000/60000 [==============================] - 7s - loss: 0.0331 - acc: 0.8283 - val_loss: 0.0301 - val_acc: 0.8537\n",
      "Epoch 2/16\n",
      "60000/60000 [==============================] - 7s - loss: 0.0303 - acc: 0.8481 - val_loss: 0.0278 - val_acc: 0.8681\n",
      "Epoch 3/16\n",
      "60000/60000 [==============================] - 7s - loss: 0.0284 - acc: 0.8607 - val_loss: 0.0262 - val_acc: 0.8794\n",
      "Epoch 4/16\n",
      "60000/60000 [==============================] - 8s - loss: 0.0270 - acc: 0.8695 - val_loss: 0.0250 - val_acc: 0.8855\n",
      "Epoch 5/16\n",
      "60000/60000 [==============================] - 7s - loss: 0.0258 - acc: 0.8766 - val_loss: 0.0241 - val_acc: 0.8904\n",
      "Epoch 6/16\n",
      "60000/60000 [==============================] - 6s - loss: 0.0249 - acc: 0.8824 - val_loss: 0.0233 - val_acc: 0.8947\n",
      "Epoch 7/16\n",
      "60000/60000 [==============================] - 6s - loss: 0.0242 - acc: 0.8868 - val_loss: 0.0226 - val_acc: 0.9004\n",
      "Epoch 8/16\n",
      "60000/60000 [==============================] - 6s - loss: 0.0235 - acc: 0.8910 - val_loss: 0.0220 - val_acc: 0.9049\n",
      "Epoch 9/16\n",
      "60000/60000 [==============================] - 6s - loss: 0.0229 - acc: 0.8944 - val_loss: 0.0215 - val_acc: 0.9054\n",
      "Epoch 10/16\n",
      "60000/60000 [==============================] - 9s - loss: 0.0224 - acc: 0.8975 - val_loss: 0.0210 - val_acc: 0.9079\n",
      "Epoch 11/16\n",
      "60000/60000 [==============================] - 9s - loss: 0.0219 - acc: 0.8994 - val_loss: 0.0206 - val_acc: 0.9101\n",
      "Epoch 12/16\n",
      "60000/60000 [==============================] - 9s - loss: 0.0215 - acc: 0.9021 - val_loss: 0.0202 - val_acc: 0.9115\n",
      "Epoch 13/16\n",
      "60000/60000 [==============================] - 10s - loss: 0.0211 - acc: 0.9047 - val_loss: 0.0199 - val_acc: 0.9134\n",
      "Epoch 14/16\n",
      "60000/60000 [==============================] - 10s - loss: 0.0207 - acc: 0.9065 - val_loss: 0.0196 - val_acc: 0.9155\n",
      "Epoch 15/16\n",
      "60000/60000 [==============================] - 9s - loss: 0.0204 - acc: 0.9086 - val_loss: 0.0193 - val_acc: 0.9174\n",
      "Epoch 16/16\n",
      "60000/60000 [==============================] - 9s - loss: 0.0201 - acc: 0.9101 - val_loss: 0.0190 - val_acc: 0.9185\n",
      "Test score: 0.0189876999408\n",
      "Test accuracy: 0.9185\n"
     ]
    }
   ],
   "source": [
    "model.fit(X_train, Y_train, batch_size=128, nb_epoch=16,\n",
    "          verbose=1, validation_data=(X_test, Y_test))\n",
    "score = model.evaluate(X_test, Y_test, verbose=0)\n",
    "print('Test score:', score[0])\n",
    "print('Test accuracy:', score[1])"
   ]
  },
  {
   "cell_type": "code",
   "execution_count": null,
   "metadata": {
    "collapsed": true
   },
   "outputs": [],
   "source": []
  },
  {
   "cell_type": "code",
   "execution_count": null,
   "metadata": {
    "collapsed": true
   },
   "outputs": [],
   "source": []
  }
 ],
 "metadata": {
  "kernelspec": {
   "display_name": "Python 3",
   "language": "python",
   "name": "python3"
  },
  "language_info": {
   "codemirror_mode": {
    "name": "ipython",
    "version": 3
   },
   "file_extension": ".py",
   "mimetype": "text/x-python",
   "name": "python",
   "nbconvert_exporter": "python",
   "pygments_lexer": "ipython3",
   "version": "3.5.1"
  }
 },
 "nbformat": 4,
 "nbformat_minor": 1
}

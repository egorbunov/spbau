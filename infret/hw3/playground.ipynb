{
 "cells": [
  {
   "cell_type": "code",
   "execution_count": 329,
   "metadata": {
    "collapsed": true
   },
   "outputs": [],
   "source": [
    "import matplotlib.pyplot as plt\n",
    "from mpl_toolkits.mplot3d import Axes3D\n",
    "import numpy as np"
   ]
  },
  {
   "cell_type": "code",
   "execution_count": 330,
   "metadata": {
    "collapsed": false
   },
   "outputs": [],
   "source": [
    "def draw_cartesian_2d(xlims=[-2, 2], ylims=[-2, 2]):\n",
    "    plt.figure(figsize=(10,10), dpi=80)\n",
    "    # Create a new subplot from a grid of 1x1\n",
    "    plt.subplot(111)\n",
    "    ax = plt.gca()\n",
    "    ax.spines['right'].set_color('none')\n",
    "    ax.spines['top'].set_color('none')\n",
    "    ax.xaxis.set_ticks_position('bottom')\n",
    "    ax.spines['bottom'].set_position(('data',0))\n",
    "    ax.yaxis.set_ticks_position('left')\n",
    "    ax.spines['left'].set_position(('data',0))\n",
    "    plt.xlim(xlims[0], xlims[1])\n",
    "    plt.ylim(ylims[0], ylims[1])\n",
    "    plt.grid(True)"
   ]
  },
  {
   "cell_type": "code",
   "execution_count": 442,
   "metadata": {
    "collapsed": true
   },
   "outputs": [],
   "source": [
    "def draw_cartesian_3d(xlims=[-2, 2], ylims=[-2, 2], zlims=[-2, 2], draw_axis=True):\n",
    "    fig = plt.figure(figsize=(6,6), dpi=80)\n",
    "    fig.add_subplot(111, projection='3d')\n",
    "    ax = plt.gca()\n",
    "    ax.set_xlim(xlims[0], xlims[1])\n",
    "    ax.set_ylim(ylims[0], ylims[1])\n",
    "    ax.set_zlim(zlims[0], zlims[1])\n",
    "    ax.scatter([0], [0], [0])\n",
    "    if draw_axis:\n",
    "        ax.plot([0, 0], [0, 0], [zlims[0], zlims[1]])\n",
    "        ax.plot([0, 0], [ylims[0], ylims[1]], [0, 0])\n",
    "        ax.plot([xlims[0], xlims[1]], [0, 0], [0, 0])\n",
    "    plt.grid(False)"
   ]
  },
  {
   "cell_type": "code",
   "execution_count": 443,
   "metadata": {
    "collapsed": true
   },
   "outputs": [],
   "source": [
    "def draw_vector_2d(to, fr=[0,0], label=None, color='black'):\n",
    "    soa =np.array([[fr[0],fr[1],to[0],to[1]]]) \n",
    "    X,Y,U,V = zip(*soa)\n",
    "    ax = plt.gca()\n",
    "    ax.quiver(X,Y,U,V, angles='xy', scale_units='xy', scale=1, width=0.0035, color=color)\n",
    "    if label is not None:\n",
    "        plt.text(to[0], to[1] + 0.05, label, fontsize=13, color=color, fontweight='bold')"
   ]
  },
  {
   "cell_type": "code",
   "execution_count": 478,
   "metadata": {
    "collapsed": true
   },
   "outputs": [],
   "source": [
    "def draw_vector_3d(to, fr=np.array([0,0,0]), label=None, color='black', draw_tips=False):\n",
    "    ax = plt.gca()\n",
    "    vec_length = np.linalg.norm(to - fr)\n",
    "    print(vec_length)\n",
    "    print([fr[0]], [fr[1]], [fr[2]], [to[0]], [to[1]], [to[2]])\n",
    "    ax.quiver([fr[0]], [fr[1]], [fr[2]], [to[0]], [to[1]], [to[2]], \n",
    "              pivot='tail', \n",
    "              length=vec_length, \n",
    "              color=color,\n",
    "              arrow_length_ratio=0.16,\n",
    "              linewidth=2)\n",
    "    \n",
    "    if draw_tips:\n",
    "        ax.plot([to[0], to[0]], [to[1], to[1]], [to[2], 0], '--', color=color)\n",
    "        ax.plot([0, to[0]], [to[1], to[1]], [0, 0], '--', color=color)\n",
    "        ax.plot([to[0], to[0]], [0, to[1]], [0, 0], '--', color=color)\n",
    "    \n",
    "    if label is not None:\n",
    "        ax.text(to[0], to[1] + 0.05, to[2] + 0.05,s=label, fontsize=13, color=color, fontweight='bold')"
   ]
  },
  {
   "cell_type": "code",
   "execution_count": 477,
   "metadata": {
    "collapsed": true
   },
   "outputs": [],
   "source": [
    "doc1 = np.array([1, 0, 1])\n",
    "doc2 = np.array([1, 1, 0])"
   ]
  },
  {
   "cell_type": "code",
   "execution_count": 310,
   "metadata": {
    "collapsed": false
   },
   "outputs": [
    {
     "name": "stdout",
     "output_type": "stream",
     "text": [
      "[[1 1]\n",
      " [0 1]\n",
      " [1 0]]\n"
     ]
    }
   ],
   "source": [
    "C = np.array([doc1, doc2]).T # vector document matrix\n",
    "print(C)"
   ]
  },
  {
   "cell_type": "code",
   "execution_count": 311,
   "metadata": {
    "collapsed": false
   },
   "outputs": [
    {
     "name": "stdout",
     "output_type": "stream",
     "text": [
      "[[1 0 1]\n",
      " [1 1 0]]\n"
     ]
    }
   ],
   "source": [
    "CT = C.T\n",
    "print(CT)"
   ]
  },
  {
   "cell_type": "code",
   "execution_count": 312,
   "metadata": {
    "collapsed": false
   },
   "outputs": [
    {
     "data": {
      "text/plain": [
       "array([[2, 1, 1],\n",
       "       [1, 1, 0],\n",
       "       [1, 0, 1]])"
      ]
     },
     "execution_count": 312,
     "metadata": {},
     "output_type": "execute_result"
    }
   ],
   "source": [
    "C.dot(C.T)"
   ]
  },
  {
   "cell_type": "code",
   "execution_count": 313,
   "metadata": {
    "collapsed": false
   },
   "outputs": [
    {
     "name": "stdout",
     "output_type": "stream",
     "text": [
      "[1 0 1] [1 1 0]\n",
      "[1 1] [0 1] [1 0]\n"
     ]
    }
   ],
   "source": [
    "d1 = CT[0]\n",
    "d2 = CT[1]\n",
    "print(d1, d2)\n",
    "\n",
    "w1 = C[0]\n",
    "w2 = C[1]\n",
    "w3 = C[2]\n",
    "print(w1, w2, w3)"
   ]
  },
  {
   "cell_type": "code",
   "execution_count": 314,
   "metadata": {
    "collapsed": false
   },
   "outputs": [
    {
     "data": {
      "image/png": "[encoded data removed]",
      "text/plain": [
       "<matplotlib.figure.Figure at 0x7f30f4433e10>"
      ]
     },
     "metadata": {},
     "output_type": "display_data"
    }
   ],
   "source": [
    "draw_cartesian_2d(xlims=[-4, 4], ylims=[-4, 4])\n",
    "draw_vector_2d(to=w1, color='red', label=r'$w_1$')\n",
    "draw_vector_2d(to=w2, color='blue', label=r'$w_2$')\n",
    "draw_vector_2d(to=w3, color='green', label=r'$w_3$')\n",
    "plt.show()"
   ]
  },
  {
   "cell_type": "code",
   "execution_count": 514,
   "metadata": {
    "collapsed": false
   },
   "outputs": [
    {
     "name": "stdout",
     "output_type": "stream",
     "text": [
      "[2 1] [1 2]\n"
     ]
    }
   ],
   "source": [
    "td1 = CT.dot(d1)\n",
    "td2 = CT.dot(d2)\n",
    "print(td1, td2)"
   ]
  },
  {
   "cell_type": "code",
   "execution_count": 513,
   "metadata": {
    "collapsed": false
   },
   "outputs": [
    {
     "data": {
      "image/png": "[encoded data removed]",
      "text/plain": [
       "<matplotlib.figure.Figure at 0x7f30f3f1b198>"
      ]
     },
     "metadata": {},
     "output_type": "display_data"
    }
   ],
   "source": [
    "draw_cartesian_2d(xlims=[-4, 4], ylims=[-4, 4])\n",
    "draw_vector_2d(to=w1, color='red', label=r'$w_1$')\n",
    "draw_vector_2d(to=w2, color='blue', label=r'$w_2$')\n",
    "draw_vector_2d(to=w3, color='green', label=r'$w_3$')\n",
    "draw_vector_2d(to=td1, color='magenta', label=r'$D_1{}$'.format(d1))\n",
    "draw_vector_2d(to=td2, color='magenta', label=r'$D_2{}$'.format(d2))\n",
    "plt.show()"
   ]
  },
  {
   "cell_type": "code",
   "execution_count": 317,
   "metadata": {
    "collapsed": false
   },
   "outputs": [
    {
     "name": "stdout",
     "output_type": "stream",
     "text": [
      "[3 1 2] [3 2 1]\n"
     ]
    }
   ],
   "source": [
    "ttd1 = C.dot(td1)\n",
    "ttd2 = C.dot(td2)\n",
    "print(ttd1, ttd2)"
   ]
  },
  {
   "cell_type": "code",
   "execution_count": 318,
   "metadata": {
    "collapsed": false
   },
   "outputs": [
    {
     "data": {
      "text/plain": [
       "array([4, 2, 2])"
      ]
     },
     "execution_count": 318,
     "metadata": {},
     "output_type": "execute_result"
    }
   ],
   "source": [
    "C.dot(CT.dot(np.array([1, 1, 1])))"
   ]
  },
  {
   "cell_type": "code",
   "execution_count": 511,
   "metadata": {
    "collapsed": false
   },
   "outputs": [
    {
     "data": {
      "text/plain": [
       "array([2, 1, 1])"
      ]
     },
     "execution_count": 511,
     "metadata": {},
     "output_type": "execute_result"
    }
   ],
   "source": [
    "C.dot(CT.dot(np.array([1, 0, 0])))"
   ]
  },
  {
   "cell_type": "code",
   "execution_count": 520,
   "metadata": {
    "collapsed": false
   },
   "outputs": [
    {
     "name": "stdout",
     "output_type": "stream",
     "text": [
      "1.41421356237\n",
      "[0] [0] [0] [1] [0] [1]\n",
      "1.41421356237\n",
      "[0] [0] [0] [1] [1] [0]\n",
      "3.74165738677\n",
      "[0] [0] [0] [3] [1] [2]\n",
      "3.74165738677\n",
      "[0] [0] [0] [3] [2] [1]\n"
     ]
    },
    {
     "data": {
      "image/png": "[encoded data removed]",
      "text/plain": [
       "<matplotlib.figure.Figure at 0x7f30f26895c0>"
      ]
     },
     "metadata": {},
     "output_type": "display_data"
    }
   ],
   "source": [
    "draw_cartesian_3d(xlims=[-4, 4], ylims=[-4, 4], zlims=[-4, 4], draw_axis=False)\n",
    "draw_vector_3d(to=d1, draw_tips=True, label=r'$D1$', color='black')\n",
    "draw_vector_3d(to=d2, draw_tips=True, label=r'$D2$', color='black')\n",
    "\n",
    "draw_vector_3d(to=ttd1, draw_tips=True, label=r'$tD1$', color='black')\n",
    "draw_vector_3d(to=ttd2, draw_tips=True, label=r'$tD2$')\n",
    "ax = plt.gca()\n",
    "ax.view_init(30, 10)\n",
    "plt.show()"
   ]
  },
  {
   "cell_type": "code",
   "execution_count": 516,
   "metadata": {
    "collapsed": false
   },
   "outputs": [
    {
     "data": {
      "text/plain": [
       "array([[2, 1, 1],\n",
       "       [1, 1, 0],\n",
       "       [1, 0, 1]])"
      ]
     },
     "execution_count": 516,
     "metadata": {},
     "output_type": "execute_result"
    }
   ],
   "source": [
    "C.dot(CT)"
   ]
  },
  {
   "cell_type": "code",
   "execution_count": 321,
   "metadata": {
    "collapsed": false
   },
   "outputs": [
    {
     "data": {
      "text/plain": [
       "array([[-0.816,  0.   ],\n",
       "       [-0.408, -0.707],\n",
       "       [-0.408,  0.707]])"
      ]
     },
     "execution_count": 321,
     "metadata": {},
     "output_type": "execute_result"
    }
   ],
   "source": [
    "U = np.array([[-0.816, 0], [-0.408, -0.707], [-0.408, 0.707]])\n",
    "U"
   ]
  },
  {
   "cell_type": "code",
   "execution_count": 322,
   "metadata": {
    "collapsed": false
   },
   "outputs": [
    {
     "data": {
      "text/plain": [
       "array([[ 1.732,  0.   ],\n",
       "       [ 0.   ,  1.   ]])"
      ]
     },
     "execution_count": 322,
     "metadata": {},
     "output_type": "execute_result"
    }
   ],
   "source": [
    "E = np.array([[1.732, 0], [0, 1]])\n",
    "E"
   ]
  },
  {
   "cell_type": "code",
   "execution_count": 323,
   "metadata": {
    "collapsed": false
   },
   "outputs": [
    {
     "data": {
      "text/plain": [
       "array([[-0.707, -0.707],\n",
       "       [ 0.707, -0.707]])"
      ]
     },
     "execution_count": 323,
     "metadata": {},
     "output_type": "execute_result"
    }
   ],
   "source": [
    "VT = np.array([[-0.707, -0.707], [0.707, -0.707]])\n",
    "VT"
   ]
  },
  {
   "cell_type": "code",
   "execution_count": 523,
   "metadata": {
    "collapsed": false
   },
   "outputs": [
    {
     "name": "stdout",
     "output_type": "stream",
     "text": [
      "[[  9.99211584e-01   9.99211584e-01]\n",
      " [ -2.43208000e-04   9.99454792e-01]\n",
      " [  9.99454792e-01  -2.43208000e-04]]\n"
     ]
    }
   ],
   "source": [
    "print((U.dot(E)).dot(VT))"
   ]
  },
  {
   "cell_type": "code",
   "execution_count": 551,
   "metadata": {
    "collapsed": false
   },
   "outputs": [
    {
     "name": "stdout",
     "output_type": "stream",
     "text": [
      "[[1 1]\n",
      " [0 1]\n",
      " [1 0]]\n"
     ]
    }
   ],
   "source": [
    "print(C)"
   ]
  },
  {
   "cell_type": "code",
   "execution_count": 552,
   "metadata": {
    "collapsed": false
   },
   "outputs": [
    {
     "name": "stdout",
     "output_type": "stream",
     "text": [
      "[[1 0 1]\n",
      " [1 1 0]]\n"
     ]
    }
   ],
   "source": [
    "print(CT)"
   ]
  },
  {
   "cell_type": "code",
   "execution_count": 326,
   "metadata": {
    "collapsed": false
   },
   "outputs": [
    {
     "data": {
      "text/plain": [
       "array([[2, 1, 1],\n",
       "       [1, 1, 0],\n",
       "       [1, 0, 1]])"
      ]
     },
     "execution_count": 326,
     "metadata": {},
     "output_type": "execute_result"
    }
   ],
   "source": [
    "C.dot(CT)"
   ]
  },
  {
   "cell_type": "code",
   "execution_count": 553,
   "metadata": {
    "collapsed": false
   },
   "outputs": [
    {
     "data": {
      "text/plain": [
       "array([[2, 1],\n",
       "       [1, 2]])"
      ]
     },
     "execution_count": 553,
     "metadata": {},
     "output_type": "execute_result"
    }
   ],
   "source": [
    "CT.dot(C)"
   ]
  },
  {
   "cell_type": "code",
   "execution_count": 545,
   "metadata": {
    "collapsed": false
   },
   "outputs": [
    {
     "data": {
      "text/plain": [
       "array([[ 0.998784,  0.      ],\n",
       "       [ 0.      ,  0.999698]])"
      ]
     },
     "execution_count": 545,
     "metadata": {},
     "output_type": "execute_result"
    }
   ],
   "source": [
    "U.T.dot(U)"
   ]
  },
  {
   "cell_type": "code",
   "execution_count": 535,
   "metadata": {
    "collapsed": false
   },
   "outputs": [
    {
     "data": {
      "text/plain": [
       "(array([[ -8.16496581e-01,  -1.66533454e-16,  -5.77350269e-01],\n",
       "        [ -4.08248290e-01,  -7.07106781e-01,   5.77350269e-01],\n",
       "        [ -4.08248290e-01,   7.07106781e-01,   5.77350269e-01]]),\n",
       " array([ 1.73205081,  1.        ]),\n",
       " array([[-0.70710678, -0.70710678],\n",
       "        [ 0.70710678, -0.70710678]]))"
      ]
     },
     "execution_count": 535,
     "metadata": {},
     "output_type": "execute_result"
    }
   ],
   "source": [
    "np.linalg.svd(C)"
   ]
  },
  {
   "cell_type": "code",
   "execution_count": 541,
   "metadata": {
    "collapsed": true
   },
   "outputs": [],
   "source": [
    "U1 = np.array([[-0.816, 0, -0.577], [-0.408, -0.707, 0.577], [-0.408, 0.707, 0.577]])"
   ]
  },
  {
   "cell_type": "code",
   "execution_count": 542,
   "metadata": {
    "collapsed": false
   },
   "outputs": [
    {
     "data": {
      "text/plain": [
       "array([[-0.816,  0.   , -0.577],\n",
       "       [-0.408, -0.707,  0.577],\n",
       "       [-0.408,  0.707,  0.577]])"
      ]
     },
     "execution_count": 542,
     "metadata": {},
     "output_type": "execute_result"
    }
   ],
   "source": [
    "U1"
   ]
  },
  {
   "cell_type": "code",
   "execution_count": 546,
   "metadata": {
    "collapsed": false
   },
   "outputs": [
    {
     "data": {
      "text/plain": [
       "array([[ 0.998784,  0.      ,  0.      ],\n",
       "       [ 0.      ,  0.999698,  0.      ],\n",
       "       [ 0.      ,  0.      ,  0.998787]])"
      ]
     },
     "execution_count": 546,
     "metadata": {},
     "output_type": "execute_result"
    }
   ],
   "source": [
    "U1.T.dot(U1)"
   ]
  },
  {
   "cell_type": "code",
   "execution_count": 554,
   "metadata": {
    "collapsed": false
   },
   "outputs": [
    {
     "data": {
      "text/plain": [
       "(array([  3.00000000e+00,  -2.91433544e-16,   1.00000000e+00]),\n",
       " array([[ -8.16496581e-01,  -5.77350269e-01,  -1.57009246e-16],\n",
       "        [ -4.08248290e-01,   5.77350269e-01,  -7.07106781e-01],\n",
       "        [ -4.08248290e-01,   5.77350269e-01,   7.07106781e-01]]))"
      ]
     },
     "execution_count": 554,
     "metadata": {},
     "output_type": "execute_result"
    }
   ],
   "source": [
    "np.linalg.eig(C.dot(CT))"
   ]
  },
  {
   "cell_type": "code",
   "execution_count": 555,
   "metadata": {
    "collapsed": false
   },
   "outputs": [
    {
     "data": {
      "text/plain": [
       "(array([ 3.,  1.]), array([[ 0.70710678, -0.70710678],\n",
       "        [ 0.70710678,  0.70710678]]))"
      ]
     },
     "execution_count": 555,
     "metadata": {},
     "output_type": "execute_result"
    }
   ],
   "source": [
    "np.linalg.eig(CT.dot(C))"
   ]
  },
  {
   "cell_type": "code",
   "execution_count": 581,
   "metadata": {
    "collapsed": false
   },
   "outputs": [
    {
     "name": "stdout",
     "output_type": "stream",
     "text": [
      "[[  1.00000000e+00   0.00000000e+00   0.00000000e+00]\n",
      " [  0.00000000e+00   1.00000000e+00   2.77555756e-16]\n",
      " [  0.00000000e+00   2.77555756e-16   1.00000000e+00]]\n",
      "[[ 1.  0.  0.]\n",
      " [ 0.  1.  0.]\n",
      " [ 0.  0.  1.]]\n"
     ]
    }
   ],
   "source": [
    "U1 = np.array([[2/np.sqrt(6), 1/np.sqrt(6), 1/np.sqrt(6)], [0, -1/np.sqrt(2), 1/np.sqrt(2)], [-1/np.sqrt(3), 1/np.sqrt(3), 1/np.sqrt(3)]]).T\n",
    "print(U1.dot(U1.T))\n",
    "print(U1.T.dot(U1))"
   ]
  },
  {
   "cell_type": "code",
   "execution_count": 573,
   "metadata": {
    "collapsed": false
   },
   "outputs": [
    {
     "data": {
      "text/plain": [
       "array([[ 1.732,  0.   ],\n",
       "       [ 0.   ,  1.   ]])"
      ]
     },
     "execution_count": 573,
     "metadata": {},
     "output_type": "execute_result"
    }
   ],
   "source": [
    "E"
   ]
  },
  {
   "cell_type": "code",
   "execution_count": 574,
   "metadata": {
    "collapsed": true
   },
   "outputs": [],
   "source": [
    "VT1 = np.array([[-1, -1], [1, -1]])"
   ]
  },
  {
   "cell_type": "code",
   "execution_count": 575,
   "metadata": {
    "collapsed": false
   },
   "outputs": [
    {
     "ename": "ValueError",
     "evalue": "shapes (3,3) and (2,2) not aligned: 3 (dim 1) != 2 (dim 0)",
     "output_type": "error",
     "traceback": [
      "\u001b[0;31m---------------------------------------------------------------------------\u001b[0m",
      "\u001b[0;31mValueError\u001b[0m                                Traceback (most recent call last)",
      "\u001b[0;32m<ipython-input-575-fc2ae348e3a5>\u001b[0m in \u001b[0;36m<module>\u001b[0;34m()\u001b[0m\n\u001b[0;32m----> 1\u001b[0;31m \u001b[0mU1\u001b[0m\u001b[0;34m.\u001b[0m\u001b[0mdot\u001b[0m\u001b[0;34m(\u001b[0m\u001b[0mE\u001b[0m\u001b[0;34m)\u001b[0m\u001b[0;34m.\u001b[0m\u001b[0mdot\u001b[0m\u001b[0;34m(\u001b[0m\u001b[0mVT1\u001b[0m\u001b[0;34m)\u001b[0m\u001b[0;34m\u001b[0m\u001b[0m\n\u001b[0m",
      "\u001b[0;31mValueError\u001b[0m: shapes (3,3) and (2,2) not aligned: 3 (dim 1) != 2 (dim 0)"
     ]
    }
   ],
   "source": [
    "U1.dot(E).dot(VT1)"
   ]
  },
  {
   "cell_type": "code",
   "execution_count": null,
   "metadata": {
    "collapsed": true
   },
   "outputs": [],
   "source": []
  }
 ],
 "metadata": {
  "kernelspec": {
   "display_name": "Python 3",
   "language": "python",
   "name": "python3"
  },
  "language_info": {
   "codemirror_mode": {
    "name": "ipython",
    "version": 3
   },
   "file_extension": ".py",
   "mimetype": "text/x-python",
   "name": "python",
   "nbconvert_exporter": "python",
   "pygments_lexer": "ipython3",
   "version": "3.5.2"
  }
 },
 "nbformat": 4,
 "nbformat_minor": 1
}

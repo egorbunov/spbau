{
 "cells": [
  {
   "cell_type": "code",
   "execution_count": 4,
   "metadata": {
    "collapsed": true
   },
   "outputs": [],
   "source": [
    "import nltk\n",
    "from nltk.tokenize import word_tokenize\n",
    "from nltk.corpus import stopwords\n",
    "\n",
    "def prepare_review(rewiew):\n",
    "    porter = nltk.PorterStemmer()\n",
    "    toks = word_tokenize(rewiew.lower())\n",
    "    # toks = [porter.stem(t) for t in toks]\n",
    "    stop_words = set(stopwords.words('english'))\n",
    "    toks = [t for t in toks if t not in stop_words and t.isalpha()]\n",
    "    return toks\n",
    "\n",
    "def get_data():\n",
    "    import pandas as pd\n",
    "    from keras.utils import np_utils\n",
    "    data = pd.DataFrame.from_csv('data/IMDB_reviews.tsv', sep='\\t', header=0, index_col=False)\n",
    "    new_id = [int(id.rpartition('_')[0]) for id in data.id]\n",
    "    scores = [int(id.rpartition('_')[2]) for id in data.id]\n",
    "    nb_classes = max(scores) - min(scores) + 1\n",
    "    \n",
    "    data[\"review\"] = [prepare_review(r) for r in data[\"review\"]]\n",
    "    data[\"id\"] = new_id\n",
    "    data[\"score\"] = scores\n",
    "    return data"
   ]
  },
  {
   "cell_type": "code",
   "execution_count": 5,
   "metadata": {
    "collapsed": false
   },
   "outputs": [
    {
     "data": {
      "text/html": [
       "<div>\n",
       "<table border=\"1\" class=\"dataframe\">\n",
       "  <thead>\n",
       "    <tr style=\"text-align: right;\">\n",
       "      <th></th>\n",
       "      <th>id</th>\n",
       "      <th>sentiment</th>\n",
       "      <th>review</th>\n",
       "      <th>score</th>\n",
       "    </tr>\n",
       "  </thead>\n",
       "  <tbody>\n",
       "    <tr>\n",
       "      <th>0</th>\n",
       "      <td>5814</td>\n",
       "      <td>1</td>\n",
       "      <td>[stuff, going, moment, mj, started, listening,...</td>\n",
       "      <td>8</td>\n",
       "    </tr>\n",
       "    <tr>\n",
       "      <th>1</th>\n",
       "      <td>2381</td>\n",
       "      <td>1</td>\n",
       "      <td>[classic, war, timothy, hines, entertaining, f...</td>\n",
       "      <td>9</td>\n",
       "    </tr>\n",
       "    <tr>\n",
       "      <th>2</th>\n",
       "      <td>7759</td>\n",
       "      <td>0</td>\n",
       "      <td>[film, starts, manager, nicholas, bell, giving...</td>\n",
       "      <td>3</td>\n",
       "    </tr>\n",
       "    <tr>\n",
       "      <th>3</th>\n",
       "      <td>3630</td>\n",
       "      <td>0</td>\n",
       "      <td>[must, assumed, praised, film, greatest, filme...</td>\n",
       "      <td>4</td>\n",
       "    </tr>\n",
       "    <tr>\n",
       "      <th>4</th>\n",
       "      <td>9495</td>\n",
       "      <td>1</td>\n",
       "      <td>[superbly, trashy, wondrously, unpretentious, ...</td>\n",
       "      <td>8</td>\n",
       "    </tr>\n",
       "  </tbody>\n",
       "</table>\n",
       "</div>"
      ],
      "text/plain": [
       "     id  sentiment                                             review  score\n",
       "0  5814          1  [stuff, going, moment, mj, started, listening,...      8\n",
       "1  2381          1  [classic, war, timothy, hines, entertaining, f...      9\n",
       "2  7759          0  [film, starts, manager, nicholas, bell, giving...      3\n",
       "3  3630          0  [must, assumed, praised, film, greatest, filme...      4\n",
       "4  9495          1  [superbly, trashy, wondrously, unpretentious, ...      8"
      ]
     },
     "execution_count": 5,
     "metadata": {},
     "output_type": "execute_result"
    }
   ],
   "source": [
    "data = get_data()\n",
    "data.head()"
   ]
  },
  {
   "cell_type": "code",
   "execution_count": 6,
   "metadata": {
    "collapsed": true
   },
   "outputs": [],
   "source": [
    "with open('imdb_reviews.pcl2', 'wb') as f:\n",
    "    import pickle\n",
    "    pickle.dump(data, f)"
   ]
  },
  {
   "cell_type": "code",
   "execution_count": null,
   "metadata": {
    "collapsed": true
   },
   "outputs": [],
   "source": []
  }
 ],
 "metadata": {
  "kernelspec": {
   "display_name": "Python 3",
   "language": "python",
   "name": "python3"
  },
  "language_info": {
   "codemirror_mode": {
    "name": "ipython",
    "version": 3
   },
   "file_extension": ".py",
   "mimetype": "text/x-python",
   "name": "python",
   "nbconvert_exporter": "python",
   "pygments_lexer": "ipython3",
   "version": "3.5.1"
  }
 },
 "nbformat": 4,
 "nbformat_minor": 1
}
